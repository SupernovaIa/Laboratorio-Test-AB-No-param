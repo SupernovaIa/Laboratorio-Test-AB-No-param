{
 "cells": [
  {
   "cell_type": "markdown",
   "metadata": {},
   "source": [
    "![hackio](https://github.com/Hack-io-Data/Imagenes/blob/main/01-LogosHackio/logo_celeste@4x.png?raw=true)\n"
   ]
  },
  {
   "cell_type": "code",
   "execution_count": 70,
   "metadata": {},
   "outputs": [],
   "source": [
    "import matplotlib.pyplot as plt\n",
    "import seaborn as sns\n",
    "import pandas as pd\n",
    "from src.support import normalidad_ks, test_no_param"
   ]
  },
  {
   "cell_type": "markdown",
   "metadata": {},
   "source": [
    "# Laboratorio A/B Testing No Paramétricos\n",
    "\n",
    "**Aerolínea:** \n",
    "Alas del Mundo\n",
    "\n",
    "**Descripción de la Aerolínea**\n",
    "\n",
    "Alas del Mundo es una aerolínea internacional que opera una amplia red de rutas a nivel mundial. La compañía se enorgullece de ofrecer vuelos cómodos y asequibles a una variedad de destinos, atrayendo a una diversa gama de clientes.\n",
    "\n",
    "**Objetivo del Análisis**\n",
    "\n",
    "El objetivo de este ejercicio es determinar si existe una diferencia significativa en el número de vuelos reservados entre pasajeros con diferentes niveles educativos y si existe una diferencia significativa entre el género de sus clientes y su salario. La aerolínea desea entender mejor a sus clientes para poder personalizar sus campañas de marketing y mejorar sus estrategias de ventas.\n",
    "\n",
    "**Set de datos**\n",
    "\n",
    "El conjunto de datos *alas_del_mundo.csv* contiene información sobre clientes de la aerolínea Alas del Mundo. A continuación, tenemos una descripción de lo que nos podemos encontrar en el conjunto de datos:\n",
    "\n",
    "- **Loyalty Number**: Número de registro de cada uno de los clientes.\n",
    "\n",
    "- **Province**: Provincia de residencia del cliente.\n",
    "\n",
    "- **City**: Ciudad de residencia del cliente.\n",
    "\n",
    "- **Gender**: Género con el que se identifica el cliente.\n",
    "\n",
    "- **Education**: Nivel educativo del cliente.\n",
    "\n",
    "- **Salary**: Salario anual del cliente.\n",
    "\n",
    "- **Loyalty Card**: Nivel que tiene el cliente dentro del programa de fidelización de la aerolínea.\n",
    "\n",
    "- **CLV**: Valor total del cliente para la aerolínea a lo largo de toda su relación.\n",
    "\n",
    "- **Enrollment Type**: Forma de registro del cliente a la aerolínea.\n",
    "\n",
    "- **Enrollment Year**: Año de inscripción.\n",
    "\n",
    "- **Enrollment Month**: Mes de inscripción. \n",
    "\n",
    "- **Year**: Año en el que se realizan los vuelos.\n",
    "\n",
    "- **Month**: Mes en el que se realizan los vuelos.\n",
    "\n",
    "- **Flights Booked**: Vuelos reservados por el cliente en un mes y año concretos.\n",
    "\n",
    "- **Distance**: Distancia de vuelo del cliente en un mes y año concreto\n",
    "\n",
    "- **Points Accumulated**: Puntos acumulados por el cliente en un mes y año concretos.\n",
    "\n",
    "## Ejercicio 1:\n",
    "\n",
    "Antes de realizar el experimento A/B y formular hipótesis, es fundamental comprender a fondo el conjunto de datos y sus características. Para lograr esto, debes llevar a cabo un análisis exploratorio detallado de los datos (EDA), con el fin de familiarizarte con ellos y entender la información disponible.\n",
    "\n"
   ]
  },
  {
   "cell_type": "code",
   "execution_count": 71,
   "metadata": {},
   "outputs": [
    {
     "data": {
      "text/html": [
       "<div>\n",
       "<style scoped>\n",
       "    .dataframe tbody tr th:only-of-type {\n",
       "        vertical-align: middle;\n",
       "    }\n",
       "\n",
       "    .dataframe tbody tr th {\n",
       "        vertical-align: top;\n",
       "    }\n",
       "\n",
       "    .dataframe thead th {\n",
       "        text-align: right;\n",
       "    }\n",
       "</style>\n",
       "<table border=\"1\" class=\"dataframe\">\n",
       "  <thead>\n",
       "    <tr style=\"text-align: right;\">\n",
       "      <th></th>\n",
       "      <th>Loyalty Number</th>\n",
       "      <th>Province</th>\n",
       "      <th>City</th>\n",
       "      <th>Gender</th>\n",
       "      <th>Education</th>\n",
       "      <th>Salary</th>\n",
       "      <th>Loyalty Card</th>\n",
       "      <th>CLV</th>\n",
       "      <th>Enrollment Type</th>\n",
       "      <th>Enrollment Year</th>\n",
       "      <th>Enrollment Month</th>\n",
       "      <th>Year</th>\n",
       "      <th>Month</th>\n",
       "      <th>Flights Booked</th>\n",
       "      <th>Distance</th>\n",
       "      <th>Points Accumulated</th>\n",
       "    </tr>\n",
       "  </thead>\n",
       "  <tbody>\n",
       "    <tr>\n",
       "      <th>0</th>\n",
       "      <td>480934</td>\n",
       "      <td>Ontario</td>\n",
       "      <td>Toronto</td>\n",
       "      <td>Female</td>\n",
       "      <td>Bachelor</td>\n",
       "      <td>83236.0</td>\n",
       "      <td>Star</td>\n",
       "      <td>3839.14</td>\n",
       "      <td>Standard</td>\n",
       "      <td>2016</td>\n",
       "      <td>2</td>\n",
       "      <td>2017</td>\n",
       "      <td>1</td>\n",
       "      <td>0</td>\n",
       "      <td>0</td>\n",
       "      <td>0.0</td>\n",
       "    </tr>\n",
       "    <tr>\n",
       "      <th>1</th>\n",
       "      <td>480934</td>\n",
       "      <td>Ontario</td>\n",
       "      <td>Toronto</td>\n",
       "      <td>Female</td>\n",
       "      <td>Bachelor</td>\n",
       "      <td>83236.0</td>\n",
       "      <td>Star</td>\n",
       "      <td>3839.14</td>\n",
       "      <td>Standard</td>\n",
       "      <td>2016</td>\n",
       "      <td>2</td>\n",
       "      <td>2017</td>\n",
       "      <td>2</td>\n",
       "      <td>3</td>\n",
       "      <td>2823</td>\n",
       "      <td>282.0</td>\n",
       "    </tr>\n",
       "    <tr>\n",
       "      <th>2</th>\n",
       "      <td>480934</td>\n",
       "      <td>Ontario</td>\n",
       "      <td>Toronto</td>\n",
       "      <td>Female</td>\n",
       "      <td>Bachelor</td>\n",
       "      <td>83236.0</td>\n",
       "      <td>Star</td>\n",
       "      <td>3839.14</td>\n",
       "      <td>Standard</td>\n",
       "      <td>2016</td>\n",
       "      <td>2</td>\n",
       "      <td>2017</td>\n",
       "      <td>3</td>\n",
       "      <td>0</td>\n",
       "      <td>0</td>\n",
       "      <td>0.0</td>\n",
       "    </tr>\n",
       "    <tr>\n",
       "      <th>3</th>\n",
       "      <td>480934</td>\n",
       "      <td>Ontario</td>\n",
       "      <td>Toronto</td>\n",
       "      <td>Female</td>\n",
       "      <td>Bachelor</td>\n",
       "      <td>83236.0</td>\n",
       "      <td>Star</td>\n",
       "      <td>3839.14</td>\n",
       "      <td>Standard</td>\n",
       "      <td>2016</td>\n",
       "      <td>2</td>\n",
       "      <td>2017</td>\n",
       "      <td>4</td>\n",
       "      <td>0</td>\n",
       "      <td>0</td>\n",
       "      <td>0.0</td>\n",
       "    </tr>\n",
       "    <tr>\n",
       "      <th>4</th>\n",
       "      <td>480934</td>\n",
       "      <td>Ontario</td>\n",
       "      <td>Toronto</td>\n",
       "      <td>Female</td>\n",
       "      <td>Bachelor</td>\n",
       "      <td>83236.0</td>\n",
       "      <td>Star</td>\n",
       "      <td>3839.14</td>\n",
       "      <td>Standard</td>\n",
       "      <td>2016</td>\n",
       "      <td>2</td>\n",
       "      <td>2018</td>\n",
       "      <td>10</td>\n",
       "      <td>6</td>\n",
       "      <td>3352</td>\n",
       "      <td>335.0</td>\n",
       "    </tr>\n",
       "  </tbody>\n",
       "</table>\n",
       "</div>"
      ],
      "text/plain": [
       "   Loyalty Number Province     City  Gender Education   Salary Loyalty Card  \\\n",
       "0          480934  Ontario  Toronto  Female  Bachelor  83236.0         Star   \n",
       "1          480934  Ontario  Toronto  Female  Bachelor  83236.0         Star   \n",
       "2          480934  Ontario  Toronto  Female  Bachelor  83236.0         Star   \n",
       "3          480934  Ontario  Toronto  Female  Bachelor  83236.0         Star   \n",
       "4          480934  Ontario  Toronto  Female  Bachelor  83236.0         Star   \n",
       "\n",
       "       CLV Enrollment Type  Enrollment Year  Enrollment Month  Year  Month  \\\n",
       "0  3839.14        Standard             2016                 2  2017      1   \n",
       "1  3839.14        Standard             2016                 2  2017      2   \n",
       "2  3839.14        Standard             2016                 2  2017      3   \n",
       "3  3839.14        Standard             2016                 2  2017      4   \n",
       "4  3839.14        Standard             2016                 2  2018     10   \n",
       "\n",
       "   Flights Booked  Distance  Points Accumulated  \n",
       "0               0         0                 0.0  \n",
       "1               3      2823               282.0  \n",
       "2               0         0                 0.0  \n",
       "3               0         0                 0.0  \n",
       "4               6      3352               335.0  "
      ]
     },
     "execution_count": 71,
     "metadata": {},
     "output_type": "execute_result"
    }
   ],
   "source": [
    "# Carga de datos\n",
    "df = pd.read_csv('datos/alas_del_mundo.csv')\n",
    "df.head()"
   ]
  },
  {
   "cell_type": "code",
   "execution_count": 72,
   "metadata": {},
   "outputs": [
    {
     "data": {
      "text/plain": [
       "(405624, 16)"
      ]
     },
     "execution_count": 72,
     "metadata": {},
     "output_type": "execute_result"
    }
   ],
   "source": [
    "df.shape"
   ]
  },
  {
   "cell_type": "markdown",
   "metadata": {},
   "source": [
    "Tenemos 405624 filas y 15 columnas"
   ]
  },
  {
   "cell_type": "code",
   "execution_count": 73,
   "metadata": {},
   "outputs": [
    {
     "name": "stdout",
     "output_type": "stream",
     "text": [
      "<class 'pandas.core.frame.DataFrame'>\n",
      "RangeIndex: 405624 entries, 0 to 405623\n",
      "Data columns (total 16 columns):\n",
      " #   Column              Non-Null Count   Dtype  \n",
      "---  ------              --------------   -----  \n",
      " 0   Loyalty Number      405624 non-null  int64  \n",
      " 1   Province            405624 non-null  object \n",
      " 2   City                405624 non-null  object \n",
      " 3   Gender              405624 non-null  object \n",
      " 4   Education           405624 non-null  object \n",
      " 5   Salary              302952 non-null  float64\n",
      " 6   Loyalty Card        405624 non-null  object \n",
      " 7   CLV                 405624 non-null  float64\n",
      " 8   Enrollment Type     405624 non-null  object \n",
      " 9   Enrollment Year     405624 non-null  int64  \n",
      " 10  Enrollment Month    405624 non-null  int64  \n",
      " 11  Year                405624 non-null  int64  \n",
      " 12  Month               405624 non-null  int64  \n",
      " 13  Flights Booked      405624 non-null  int64  \n",
      " 14  Distance            405624 non-null  int64  \n",
      " 15  Points Accumulated  405624 non-null  float64\n",
      "dtypes: float64(3), int64(7), object(6)\n",
      "memory usage: 49.5+ MB\n"
     ]
    }
   ],
   "source": [
    "df.info()"
   ]
  },
  {
   "cell_type": "markdown",
   "metadata": {},
   "source": [
    "Vemos, a priori, que solamente tenemos valores nulos en la columna `Salary`"
   ]
  },
  {
   "cell_type": "code",
   "execution_count": 74,
   "metadata": {},
   "outputs": [
    {
     "data": {
      "text/plain": [
       "False    403760\n",
       "True       1864\n",
       "Name: count, dtype: int64"
      ]
     },
     "execution_count": 74,
     "metadata": {},
     "output_type": "execute_result"
    }
   ],
   "source": [
    "df.duplicated().value_counts()"
   ]
  },
  {
   "cell_type": "markdown",
   "metadata": {},
   "source": [
    "Como tenemos 1878 valores duplicados vamos a eliminarlos"
   ]
  },
  {
   "cell_type": "code",
   "execution_count": 75,
   "metadata": {},
   "outputs": [],
   "source": [
    "df.drop_duplicates(inplace=True)"
   ]
  },
  {
   "cell_type": "markdown",
   "metadata": {},
   "source": [
    "### Datos numéricos"
   ]
  },
  {
   "cell_type": "code",
   "execution_count": 76,
   "metadata": {},
   "outputs": [
    {
     "data": {
      "text/html": [
       "<div>\n",
       "<style scoped>\n",
       "    .dataframe tbody tr th:only-of-type {\n",
       "        vertical-align: middle;\n",
       "    }\n",
       "\n",
       "    .dataframe tbody tr th {\n",
       "        vertical-align: top;\n",
       "    }\n",
       "\n",
       "    .dataframe thead th {\n",
       "        text-align: right;\n",
       "    }\n",
       "</style>\n",
       "<table border=\"1\" class=\"dataframe\">\n",
       "  <thead>\n",
       "    <tr style=\"text-align: right;\">\n",
       "      <th></th>\n",
       "      <th>count</th>\n",
       "      <th>mean</th>\n",
       "      <th>std</th>\n",
       "      <th>min</th>\n",
       "      <th>25%</th>\n",
       "      <th>50%</th>\n",
       "      <th>75%</th>\n",
       "      <th>max</th>\n",
       "    </tr>\n",
       "  </thead>\n",
       "  <tbody>\n",
       "    <tr>\n",
       "      <th>Loyalty Number</th>\n",
       "      <td>403760.0</td>\n",
       "      <td>549875.38</td>\n",
       "      <td>258961.51</td>\n",
       "      <td>100018.00</td>\n",
       "      <td>326699.00</td>\n",
       "      <td>550598.00</td>\n",
       "      <td>772152.00</td>\n",
       "      <td>999986.00</td>\n",
       "    </tr>\n",
       "    <tr>\n",
       "      <th>Salary</th>\n",
       "      <td>301500.0</td>\n",
       "      <td>79258.58</td>\n",
       "      <td>34983.93</td>\n",
       "      <td>-58486.00</td>\n",
       "      <td>59262.00</td>\n",
       "      <td>73479.00</td>\n",
       "      <td>88606.00</td>\n",
       "      <td>407228.00</td>\n",
       "    </tr>\n",
       "    <tr>\n",
       "      <th>CLV</th>\n",
       "      <td>403760.0</td>\n",
       "      <td>7990.86</td>\n",
       "      <td>6863.32</td>\n",
       "      <td>1898.01</td>\n",
       "      <td>3981.78</td>\n",
       "      <td>5776.34</td>\n",
       "      <td>8937.12</td>\n",
       "      <td>83325.38</td>\n",
       "    </tr>\n",
       "    <tr>\n",
       "      <th>Enrollment Year</th>\n",
       "      <td>403760.0</td>\n",
       "      <td>2015.25</td>\n",
       "      <td>1.98</td>\n",
       "      <td>2012.00</td>\n",
       "      <td>2014.00</td>\n",
       "      <td>2015.00</td>\n",
       "      <td>2017.00</td>\n",
       "      <td>2018.00</td>\n",
       "    </tr>\n",
       "    <tr>\n",
       "      <th>Enrollment Month</th>\n",
       "      <td>403760.0</td>\n",
       "      <td>6.67</td>\n",
       "      <td>3.40</td>\n",
       "      <td>1.00</td>\n",
       "      <td>4.00</td>\n",
       "      <td>7.00</td>\n",
       "      <td>10.00</td>\n",
       "      <td>12.00</td>\n",
       "    </tr>\n",
       "    <tr>\n",
       "      <th>Year</th>\n",
       "      <td>403760.0</td>\n",
       "      <td>2017.50</td>\n",
       "      <td>0.50</td>\n",
       "      <td>2017.00</td>\n",
       "      <td>2017.00</td>\n",
       "      <td>2018.00</td>\n",
       "      <td>2018.00</td>\n",
       "      <td>2018.00</td>\n",
       "    </tr>\n",
       "    <tr>\n",
       "      <th>Month</th>\n",
       "      <td>403760.0</td>\n",
       "      <td>6.50</td>\n",
       "      <td>3.45</td>\n",
       "      <td>1.00</td>\n",
       "      <td>4.00</td>\n",
       "      <td>7.00</td>\n",
       "      <td>10.00</td>\n",
       "      <td>12.00</td>\n",
       "    </tr>\n",
       "    <tr>\n",
       "      <th>Flights Booked</th>\n",
       "      <td>403760.0</td>\n",
       "      <td>4.13</td>\n",
       "      <td>5.23</td>\n",
       "      <td>0.00</td>\n",
       "      <td>0.00</td>\n",
       "      <td>1.00</td>\n",
       "      <td>8.00</td>\n",
       "      <td>21.00</td>\n",
       "    </tr>\n",
       "    <tr>\n",
       "      <th>Distance</th>\n",
       "      <td>403760.0</td>\n",
       "      <td>1214.46</td>\n",
       "      <td>1434.10</td>\n",
       "      <td>0.00</td>\n",
       "      <td>0.00</td>\n",
       "      <td>525.00</td>\n",
       "      <td>2342.00</td>\n",
       "      <td>6293.00</td>\n",
       "    </tr>\n",
       "    <tr>\n",
       "      <th>Points Accumulated</th>\n",
       "      <td>403760.0</td>\n",
       "      <td>124.26</td>\n",
       "      <td>146.70</td>\n",
       "      <td>0.00</td>\n",
       "      <td>0.00</td>\n",
       "      <td>53.00</td>\n",
       "      <td>240.00</td>\n",
       "      <td>676.50</td>\n",
       "    </tr>\n",
       "  </tbody>\n",
       "</table>\n",
       "</div>"
      ],
      "text/plain": [
       "                       count       mean        std        min        25%  \\\n",
       "Loyalty Number      403760.0  549875.38  258961.51  100018.00  326699.00   \n",
       "Salary              301500.0   79258.58   34983.93  -58486.00   59262.00   \n",
       "CLV                 403760.0    7990.86    6863.32    1898.01    3981.78   \n",
       "Enrollment Year     403760.0    2015.25       1.98    2012.00    2014.00   \n",
       "Enrollment Month    403760.0       6.67       3.40       1.00       4.00   \n",
       "Year                403760.0    2017.50       0.50    2017.00    2017.00   \n",
       "Month               403760.0       6.50       3.45       1.00       4.00   \n",
       "Flights Booked      403760.0       4.13       5.23       0.00       0.00   \n",
       "Distance            403760.0    1214.46    1434.10       0.00       0.00   \n",
       "Points Accumulated  403760.0     124.26     146.70       0.00       0.00   \n",
       "\n",
       "                          50%        75%        max  \n",
       "Loyalty Number      550598.00  772152.00  999986.00  \n",
       "Salary               73479.00   88606.00  407228.00  \n",
       "CLV                   5776.34    8937.12   83325.38  \n",
       "Enrollment Year       2015.00    2017.00    2018.00  \n",
       "Enrollment Month         7.00      10.00      12.00  \n",
       "Year                  2018.00    2018.00    2018.00  \n",
       "Month                    7.00      10.00      12.00  \n",
       "Flights Booked           1.00       8.00      21.00  \n",
       "Distance               525.00    2342.00    6293.00  \n",
       "Points Accumulated      53.00     240.00     676.50  "
      ]
     },
     "execution_count": 76,
     "metadata": {},
     "output_type": "execute_result"
    }
   ],
   "source": [
    "df.describe().round(2).T"
   ]
  },
  {
   "cell_type": "markdown",
   "metadata": {},
   "source": [
    "Vemos que el mínimo del salario es negativo, vamos a investigarlo más a fondo"
   ]
  },
  {
   "cell_type": "code",
   "execution_count": 77,
   "metadata": {},
   "outputs": [
    {
     "data": {
      "text/plain": [
       "Education\n",
       "[Bachelor]                19\n",
       "[High School or Below]     1\n",
       "Name: count, dtype: int64"
      ]
     },
     "execution_count": 77,
     "metadata": {},
     "output_type": "execute_result"
    }
   ],
   "source": [
    "df[df['Salary'] <= 0].groupby('Loyalty Number')['Education'].unique().value_counts()"
   ]
  },
  {
   "cell_type": "markdown",
   "metadata": {},
   "source": [
    "Hay 20 personas con salario negativo de las cuales 19 tienen un nivel de estudios `Bachelor` y 1 de `High School or Below`"
   ]
  },
  {
   "cell_type": "code",
   "execution_count": 78,
   "metadata": {},
   "outputs": [
    {
     "data": {
      "text/plain": [
       "Education\n",
       "[College]    4238\n",
       "Name: count, dtype: int64"
      ]
     },
     "execution_count": 78,
     "metadata": {},
     "output_type": "execute_result"
    }
   ],
   "source": [
    "df[df['Salary'].isna()].groupby('Loyalty Number')['Education'].unique().value_counts()"
   ]
  },
  {
   "cell_type": "markdown",
   "metadata": {},
   "source": [
    "Por otra parte, tenemos 4238 personas cuyo salario son valores nulos de las cuales todas tienen un nivel de estudios de `College`"
   ]
  },
  {
   "cell_type": "markdown",
   "metadata": {},
   "source": [
    "### Datos categóricos"
   ]
  },
  {
   "cell_type": "code",
   "execution_count": 79,
   "metadata": {},
   "outputs": [
    {
     "data": {
      "text/html": [
       "<div>\n",
       "<style scoped>\n",
       "    .dataframe tbody tr th:only-of-type {\n",
       "        vertical-align: middle;\n",
       "    }\n",
       "\n",
       "    .dataframe tbody tr th {\n",
       "        vertical-align: top;\n",
       "    }\n",
       "\n",
       "    .dataframe thead th {\n",
       "        text-align: right;\n",
       "    }\n",
       "</style>\n",
       "<table border=\"1\" class=\"dataframe\">\n",
       "  <thead>\n",
       "    <tr style=\"text-align: right;\">\n",
       "      <th></th>\n",
       "      <th>count</th>\n",
       "      <th>unique</th>\n",
       "      <th>top</th>\n",
       "      <th>freq</th>\n",
       "    </tr>\n",
       "  </thead>\n",
       "  <tbody>\n",
       "    <tr>\n",
       "      <th>Province</th>\n",
       "      <td>403760</td>\n",
       "      <td>11</td>\n",
       "      <td>Ontario</td>\n",
       "      <td>130258</td>\n",
       "    </tr>\n",
       "    <tr>\n",
       "      <th>City</th>\n",
       "      <td>403760</td>\n",
       "      <td>29</td>\n",
       "      <td>Toronto</td>\n",
       "      <td>80775</td>\n",
       "    </tr>\n",
       "    <tr>\n",
       "      <th>Gender</th>\n",
       "      <td>403760</td>\n",
       "      <td>2</td>\n",
       "      <td>Female</td>\n",
       "      <td>202757</td>\n",
       "    </tr>\n",
       "    <tr>\n",
       "      <th>Education</th>\n",
       "      <td>403760</td>\n",
       "      <td>5</td>\n",
       "      <td>Bachelor</td>\n",
       "      <td>252567</td>\n",
       "    </tr>\n",
       "    <tr>\n",
       "      <th>Loyalty Card</th>\n",
       "      <td>403760</td>\n",
       "      <td>3</td>\n",
       "      <td>Star</td>\n",
       "      <td>183745</td>\n",
       "    </tr>\n",
       "    <tr>\n",
       "      <th>Enrollment Type</th>\n",
       "      <td>403760</td>\n",
       "      <td>2</td>\n",
       "      <td>Standard</td>\n",
       "      <td>380419</td>\n",
       "    </tr>\n",
       "  </tbody>\n",
       "</table>\n",
       "</div>"
      ],
      "text/plain": [
       "                  count unique       top    freq\n",
       "Province         403760     11   Ontario  130258\n",
       "City             403760     29   Toronto   80775\n",
       "Gender           403760      2    Female  202757\n",
       "Education        403760      5  Bachelor  252567\n",
       "Loyalty Card     403760      3      Star  183745\n",
       "Enrollment Type  403760      2  Standard  380419"
      ]
     },
     "execution_count": 79,
     "metadata": {},
     "output_type": "execute_result"
    }
   ],
   "source": [
    "df.describe(include='O').T"
   ]
  },
  {
   "cell_type": "markdown",
   "metadata": {},
   "source": [
    "Vamos a calcular el total de personas que tiene cada valor de cada categoría"
   ]
  },
  {
   "cell_type": "code",
   "execution_count": 80,
   "metadata": {},
   "outputs": [
    {
     "data": {
      "text/plain": [
       "Province\n",
       "[Ontario]                 5404\n",
       "[British Columbia]        4409\n",
       "[Quebec]                  3300\n",
       "[Alberta]                  969\n",
       "[Manitoba]                 658\n",
       "[New Brunswick]            636\n",
       "[Nova Scotia]              518\n",
       "[Saskatchewan]             409\n",
       "[Newfoundland]             258\n",
       "[Yukon]                    110\n",
       "[Prince Edward Island]      66\n",
       "Name: count, dtype: int64"
      ]
     },
     "execution_count": 80,
     "metadata": {},
     "output_type": "execute_result"
    }
   ],
   "source": [
    "# Por provincias\n",
    "df.groupby('Loyalty Number')['Province'].unique().value_counts()"
   ]
  },
  {
   "cell_type": "code",
   "execution_count": 81,
   "metadata": {},
   "outputs": [
    {
     "data": {
      "text/plain": [
       "City\n",
       "[Toronto]      3351\n",
       "[Vancouver]    2582\n",
       "[Montreal]     2059\n",
       "[Winnipeg]      658\n",
       "[Whistler]      582\n",
       "Name: count, dtype: int64"
      ]
     },
     "execution_count": 81,
     "metadata": {},
     "output_type": "execute_result"
    }
   ],
   "source": [
    "# Por ciudades\n",
    "df.groupby('Loyalty Number')['City'].unique().value_counts().head()"
   ]
  },
  {
   "cell_type": "code",
   "execution_count": 82,
   "metadata": {},
   "outputs": [
    {
     "data": {
      "text/plain": [
       "Gender\n",
       "[Female]    8410\n",
       "[Male]      8327\n",
       "Name: count, dtype: int64"
      ]
     },
     "execution_count": 82,
     "metadata": {},
     "output_type": "execute_result"
    }
   ],
   "source": [
    "# Por género\n",
    "df.groupby('Loyalty Number')['Gender'].unique().value_counts()"
   ]
  },
  {
   "cell_type": "code",
   "execution_count": 83,
   "metadata": {},
   "outputs": [
    {
     "data": {
      "text/plain": [
       "Education\n",
       "[Bachelor]                10475\n",
       "[College]                  4238\n",
       "[High School or Below]      782\n",
       "[Doctor]                    734\n",
       "[Master]                    508\n",
       "Name: count, dtype: int64"
      ]
     },
     "execution_count": 83,
     "metadata": {},
     "output_type": "execute_result"
    }
   ],
   "source": [
    "# Por educación\n",
    "df.groupby('Loyalty Number')['Education'].unique().value_counts()"
   ]
  },
  {
   "cell_type": "code",
   "execution_count": 84,
   "metadata": {},
   "outputs": [
    {
     "data": {
      "text/plain": [
       "Loyalty Card\n",
       "[Star]      7637\n",
       "[Nova]      5671\n",
       "[Aurora]    3429\n",
       "Name: count, dtype: int64"
      ]
     },
     "execution_count": 84,
     "metadata": {},
     "output_type": "execute_result"
    }
   ],
   "source": [
    "# Por loyalty card\n",
    "df.groupby('Loyalty Number')['Loyalty Card'].unique().value_counts()"
   ]
  },
  {
   "cell_type": "code",
   "execution_count": 85,
   "metadata": {},
   "outputs": [
    {
     "data": {
      "text/plain": [
       "Enrollment Type\n",
       "[Standard]          15766\n",
       "[2018 Promotion]      971\n",
       "Name: count, dtype: int64"
      ]
     },
     "execution_count": 85,
     "metadata": {},
     "output_type": "execute_result"
    }
   ],
   "source": [
    "# Por Enrollment type\n",
    "df.groupby('Loyalty Number')['Enrollment Type'].unique().value_counts()"
   ]
  },
  {
   "cell_type": "markdown",
   "metadata": {},
   "source": [
    "---"
   ]
  },
  {
   "cell_type": "markdown",
   "metadata": {},
   "source": [
    "## Ejercicio 2:\n",
    "Determina si existe una diferencia significativa en el número de vuelos reservados entre los diferentes niveles educativos.\n",
    "\n",
    " Pasos a seguir:\n",
    "\n",
    "   - Definición de la hipótesis.\n",
    "   - Prueba de hipótesis\n",
    "   - Análisis de resultados\n",
    "   - Conclusiones\n",
    "   \n"
   ]
  },
  {
   "cell_type": "markdown",
   "metadata": {},
   "source": [
    "---"
   ]
  },
  {
   "cell_type": "markdown",
   "metadata": {},
   "source": [
    "Antes de nada, como solo teníamos valores nulos o extraños en el salario y este campo no es relevante para este punto del análisis podemos trabajar con el conjunto de datos inicial, solamente habiendo eliminado duplicados."
   ]
  },
  {
   "cell_type": "markdown",
   "metadata": {},
   "source": [
    "### Definición de la hipótesis"
   ]
  },
  {
   "cell_type": "markdown",
   "metadata": {},
   "source": [
    "* `Hipótesis nula` $H_0$: No hay diferencia en el número de vuelos reservados entre los diferentes niveles educativos.\n",
    "\n",
    "* `Hipótesis alternativa` $H_1$: Sí existe diferencia entre ellos."
   ]
  },
  {
   "cell_type": "markdown",
   "metadata": {},
   "source": [
    "Construimos un DataFrame en el que agrupemos los clientes de las aerolíneas mediante su `Loyalty Number`, que es su identificdor único, y por su nivel educativo ya que es por dónde queremos segmentar. Para cada persona sumamos todos los vuelos reservados para tener su total."
   ]
  },
  {
   "cell_type": "code",
   "execution_count": 86,
   "metadata": {},
   "outputs": [
    {
     "data": {
      "text/html": [
       "<div>\n",
       "<style scoped>\n",
       "    .dataframe tbody tr th:only-of-type {\n",
       "        vertical-align: middle;\n",
       "    }\n",
       "\n",
       "    .dataframe tbody tr th {\n",
       "        vertical-align: top;\n",
       "    }\n",
       "\n",
       "    .dataframe thead th {\n",
       "        text-align: right;\n",
       "    }\n",
       "</style>\n",
       "<table border=\"1\" class=\"dataframe\">\n",
       "  <thead>\n",
       "    <tr style=\"text-align: right;\">\n",
       "      <th></th>\n",
       "      <th>Loyalty Number</th>\n",
       "      <th>Education</th>\n",
       "      <th>Flights Booked</th>\n",
       "    </tr>\n",
       "  </thead>\n",
       "  <tbody>\n",
       "    <tr>\n",
       "      <th>0</th>\n",
       "      <td>100018</td>\n",
       "      <td>Bachelor</td>\n",
       "      <td>157</td>\n",
       "    </tr>\n",
       "    <tr>\n",
       "      <th>1</th>\n",
       "      <td>100102</td>\n",
       "      <td>College</td>\n",
       "      <td>173</td>\n",
       "    </tr>\n",
       "    <tr>\n",
       "      <th>2</th>\n",
       "      <td>100140</td>\n",
       "      <td>College</td>\n",
       "      <td>152</td>\n",
       "    </tr>\n",
       "    <tr>\n",
       "      <th>3</th>\n",
       "      <td>100214</td>\n",
       "      <td>Bachelor</td>\n",
       "      <td>79</td>\n",
       "    </tr>\n",
       "    <tr>\n",
       "      <th>4</th>\n",
       "      <td>100272</td>\n",
       "      <td>Bachelor</td>\n",
       "      <td>127</td>\n",
       "    </tr>\n",
       "  </tbody>\n",
       "</table>\n",
       "</div>"
      ],
      "text/plain": [
       "   Loyalty Number Education  Flights Booked\n",
       "0          100018  Bachelor             157\n",
       "1          100102   College             173\n",
       "2          100140   College             152\n",
       "3          100214  Bachelor              79\n",
       "4          100272  Bachelor             127"
      ]
     },
     "execution_count": 86,
     "metadata": {},
     "output_type": "execute_result"
    }
   ],
   "source": [
    "df_vuelos = df.groupby(['Loyalty Number', 'Education'])['Flights Booked'].sum().reset_index()\n",
    "df_vuelos.head()"
   ]
  },
  {
   "cell_type": "code",
   "execution_count": 87,
   "metadata": {},
   "outputs": [],
   "source": [
    "niveles_eucativos = df_vuelos['Education'].unique()"
   ]
  },
  {
   "cell_type": "code",
   "execution_count": 88,
   "metadata": {},
   "outputs": [],
   "source": [
    "lista_df = [df_vuelos[df_vuelos['Education'] == ed]['Flights Booked'] for ed in niveles_eucativos]"
   ]
  },
  {
   "cell_type": "code",
   "execution_count": 89,
   "metadata": {},
   "outputs": [
    {
     "name": "stdout",
     "output_type": "stream",
     "text": [
      "El tamaño del dataframe es 10475\n",
      "El tamaño del dataframe es 4238\n",
      "El tamaño del dataframe es 508\n",
      "El tamaño del dataframe es 782\n",
      "El tamaño del dataframe es 734\n"
     ]
    }
   ],
   "source": [
    "for df in lista_df:\n",
    "    print(f\"El tamaño del dataframe es {df.shape[0]}\")"
   ]
  },
  {
   "cell_type": "markdown",
   "metadata": {},
   "source": [
    "Vemos que el tamaño de todos los dataframes es > 30 por lo que utilizaremos el test de Kormogolov para comprobar la normalidad"
   ]
  },
  {
   "cell_type": "code",
   "execution_count": 90,
   "metadata": {},
   "outputs": [
    {
     "name": "stdout",
     "output_type": "stream",
     "text": [
      "El valor de p es 0.0\n",
      "El valor de p es 0.0\n",
      "El valor de p es 0.0\n",
      "El valor de p es 0.0\n",
      "El valor de p es 0.0\n"
     ]
    }
   ],
   "source": [
    "for df in lista_df:\n",
    "    print(f\"El valor de p es {normalidad_ks(df)[1].round(4)}\")"
   ]
  },
  {
   "cell_type": "markdown",
   "metadata": {},
   "source": [
    "Todos los valores p son 0 (0 < 0.05) por lo que descartamos que los datos sigan distribuciones normales.\n",
    "\n",
    "Podemos ver también gráficamente cómo es la forma de la distribución:"
   ]
  },
  {
   "cell_type": "code",
   "execution_count": 91,
   "metadata": {},
   "outputs": [
    {
     "data": {
      "image/png": "[encoded data removed]",
      "text/plain": [
       "<Figure size 1000x600 with 5 Axes>"
      ]
     },
     "metadata": {},
     "output_type": "display_data"
    }
   ],
   "source": [
    "fig, axes = plt.subplots(nrows=2, ncols=3, figsize=(10, 6))\n",
    "axes = axes.flat\n",
    "\n",
    "mako_colors = sns.color_palette(\"mako\", 5)\n",
    "\n",
    "for i, df in enumerate(lista_df):\n",
    "    sns.histplot(df, kde=True, ax=axes[i], color=mako_colors[i], element=\"bars\")\n",
    "    axes[i].set_title(niveles_eucativos[i])\n",
    "    axes[i].set_xlabel('Número vuelos')\n",
    "    axes[i].set_ylabel('Cantidad personas')\n",
    "\n",
    "if len(lista_df) % 2 != 0:\n",
    "    fig.delaxes(axes[-1])\n",
    "\n",
    "fig.tight_layout()\n",
    "plt.show()"
   ]
  },
  {
   "cell_type": "markdown",
   "metadata": {},
   "source": [
    "Efectivamente no es una distribución normal en ninguno de los casos. Por tanto, debemos utilizar un test no paramétrico"
   ]
  },
  {
   "cell_type": "code",
   "execution_count": 92,
   "metadata": {},
   "outputs": [
    {
     "name": "stdout",
     "output_type": "stream",
     "text": [
      "Test Kruskal Wallis\n"
     ]
    },
    {
     "data": {
      "text/plain": [
       "0.4736"
      ]
     },
     "execution_count": 92,
     "metadata": {},
     "output_type": "execute_result"
    }
   ],
   "source": [
    "# Ejecución del test adecuado y nos quedamos con el p-valor\n",
    "test_no_param(lista_df)[1].round(4)"
   ]
  },
  {
   "cell_type": "markdown",
   "metadata": {},
   "source": [
    "Como el p-valor obtenido del test adecuado es mayor que 0.05 (y que cualquier valor típico de $\\alpha$) podemos decir que no hay evidencia estadística suficiente como para afirmar que las medianas de las distribuciones son significativamente diferentes. Por lo tanto podemos concluir que no hay diferencias entre el número de vuelos que se reservan para cada grupo en función de su nivel educativo."
   ]
  },
  {
   "cell_type": "markdown",
   "metadata": {},
   "source": [
    "---"
   ]
  },
  {
   "cell_type": "markdown",
   "metadata": {},
   "source": [
    "## Ejercicio 3:\n",
    "Determina si existe una diferencia significativa en el salario de los clientes en función del género de los mismos.\n",
    "\n",
    "Pasos a seguir:\n",
    "   - Definición de la hipótesis.\n",
    "   - Prueba de hipótesis\n",
    "   - Análisis de resultados\n",
    "   - Conclusiones"
   ]
  },
  {
   "cell_type": "markdown",
   "metadata": {},
   "source": [
    "---"
   ]
  },
  {
   "cell_type": "markdown",
   "metadata": {},
   "source": [
    "Como ahora tenemos que comparar diferencias de salario eliminaremos los valores nulos y negativos, ya que éstos sesgarían nuestros resultados."
   ]
  },
  {
   "cell_type": "code",
   "execution_count": 93,
   "metadata": {},
   "outputs": [],
   "source": [
    "# Carga de datos\n",
    "df = pd.read_csv('datos/alas_del_mundo.csv')\n",
    "# Eliminar duplicados\n",
    "df.drop_duplicates(inplace=True)\n",
    "# Nos quedamos solo con los datos que tienen valores de salario positivos\n",
    "df = df[df['Salary'] > 0]"
   ]
  },
  {
   "cell_type": "markdown",
   "metadata": {},
   "source": [
    "### Definición de la hipótesis"
   ]
  },
  {
   "cell_type": "markdown",
   "metadata": {},
   "source": [
    "* `Hipótesis nula` $H_0$: No hay diferencia en el salario entre géneros.\n",
    "\n",
    "* `Hipótesis alternativa` $H_1$: Sí existe diferencia entre ellos."
   ]
  },
  {
   "cell_type": "markdown",
   "metadata": {},
   "source": [
    "Construimos un DataFrame en el que agrupemos los clientes de las aerolíneas mediante su `Loyalty Number`, que es su identificdor único, y por su género ya que es por dónde queremos segmentar. Para cada persona tomamos la media de su sueldo por si ha evolucionado a lo largo del tiempo."
   ]
  },
  {
   "cell_type": "code",
   "execution_count": 94,
   "metadata": {},
   "outputs": [],
   "source": [
    "df_salarios = df.groupby(['Loyalty Number', 'Gender'])['Salary'].mean().reset_index()"
   ]
  },
  {
   "cell_type": "code",
   "execution_count": 95,
   "metadata": {},
   "outputs": [],
   "source": [
    "generos = df_salarios['Gender'].unique()\n",
    "lista_df = [df_salarios[df_salarios['Gender'] == gen]['Salary'] for gen in generos]"
   ]
  },
  {
   "cell_type": "code",
   "execution_count": 96,
   "metadata": {},
   "outputs": [
    {
     "name": "stdout",
     "output_type": "stream",
     "text": [
      "El tamaño del dataframe es 6316\n",
      "El tamaño del dataframe es 6163\n"
     ]
    }
   ],
   "source": [
    "for df in lista_df:\n",
    "    print(f\"El tamaño del dataframe es {df.shape[0]}\")"
   ]
  },
  {
   "cell_type": "markdown",
   "metadata": {},
   "source": [
    "Vemos que el tamaño de todos los dataframes es > 30 por lo que utilizaremos el test de Kormogolov para comprobar la normalidad"
   ]
  },
  {
   "cell_type": "code",
   "execution_count": 97,
   "metadata": {},
   "outputs": [
    {
     "name": "stdout",
     "output_type": "stream",
     "text": [
      "El valor de p es 0.0\n",
      "El valor de p es 0.0\n"
     ]
    }
   ],
   "source": [
    "for df in lista_df:\n",
    "    print(f\"El valor de p es {normalidad_ks(df)[1].round(3)}\")"
   ]
  },
  {
   "cell_type": "markdown",
   "metadata": {},
   "source": [
    "Todos los valores p son 0 (0 < 0.05) por lo que descartamos que los datos sigan distribuciones normales.\n",
    "\n",
    "Podemos ver también gráficamente cómo es la forma de la distribución:"
   ]
  },
  {
   "cell_type": "code",
   "execution_count": 98,
   "metadata": {},
   "outputs": [
    {
     "data": {
      "image/png": "[encoded data removed]",
      "text/plain": [
       "<Figure size 1400x400 with 2 Axes>"
      ]
     },
     "metadata": {},
     "output_type": "display_data"
    }
   ],
   "source": [
    "fig, axes = plt.subplots(nrows=1, ncols=2, figsize=(14, 4))\n",
    "axes = axes.flat\n",
    "\n",
    "mako_colors = sns.color_palette(\"mako\", 2)\n",
    "\n",
    "for i, df in enumerate(lista_df):\n",
    "    sns.histplot(df, kde=True, ax=axes[i], color=mako_colors[i], element=\"bars\")\n",
    "    axes[i].set_title(generos[i])\n",
    "    axes[i].set_xlabel('Salario')\n",
    "    axes[i].set_ylabel('Cantidad personas')\n",
    "\n",
    "if len(lista_df) % 2 != 0:\n",
    "    fig.delaxes(axes[-1])\n",
    "\n",
    "fig.tight_layout()\n",
    "plt.show()"
   ]
  },
  {
   "cell_type": "code",
   "execution_count": 99,
   "metadata": {},
   "outputs": [
    {
     "name": "stdout",
     "output_type": "stream",
     "text": [
      "Test U\n"
     ]
    },
    {
     "data": {
      "text/plain": [
       "0.3932"
      ]
     },
     "execution_count": 99,
     "metadata": {},
     "output_type": "execute_result"
    }
   ],
   "source": [
    "# Ejecución del test adecuado y nos quedamos con el p-valor\n",
    "test_no_param(lista_df)[1].round(4)"
   ]
  },
  {
   "cell_type": "markdown",
   "metadata": {},
   "source": [
    "Como el p-valor obtenido del test adecuado es mayor que 0.05 (y que cualquier valor típico de $\\alpha$) podemos decir que no hay evidencia estadística suficiente como para afirmar que las medianas de las distribuciones son significativamente diferentes. Por lo tanto podemos concluir que no hay diferencias entre géneros en cuanto a salario."
   ]
  }
 ],
 "metadata": {
  "kernelspec": {
   "display_name": "proyecto6",
   "language": "python",
   "name": "python3"
  },
  "language_info": {
   "codemirror_mode": {
    "name": "ipython",
    "version": 3
   },
   "file_extension": ".py",
   "mimetype": "text/x-python",
   "name": "python",
   "nbconvert_exporter": "python",
   "pygments_lexer": "ipython3",
   "version": "3.12.7"
  }
 },
 "nbformat": 4,
 "nbformat_minor": 2
}
